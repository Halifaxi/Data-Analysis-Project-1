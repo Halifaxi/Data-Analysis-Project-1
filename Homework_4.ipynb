{
  "nbformat": 4,
  "nbformat_minor": 0,
  "metadata": {
    "colab": {
      "name": "Homework 4",
      "provenance": [],
      "authorship_tag": "ABX9TyNNwFUCXr6fPouApV5taRMs",
      "include_colab_link": true
    },
    "kernelspec": {
      "name": "python3",
      "display_name": "Python 3"
    }
  },
  "cells": [
    {
      "cell_type": "markdown",
      "metadata": {
        "id": "view-in-github",
        "colab_type": "text"
      },
      "source": [
        "<a href=\"https://colab.research.google.com/github/Halifaxi/Data-Analysis-Project-1/blob/master/Homework_4.ipynb\" target=\"_parent\"><img src=\"https://colab.research.google.com/assets/colab-badge.svg\" alt=\"Open In Colab\"/></a>"
      ]
    },
    {
      "cell_type": "code",
      "metadata": {
        "colab": {
          "base_uri": "https://localhost:8080/"
        },
        "id": "IJ7ZENNSM1JS",
        "outputId": "9c113d4c-906f-4b2a-8a43-72dddec39066"
      },
      "source": [
        "#1c)\n",
        "import numpy as np \n",
        "import matplotlib.pyplot as plt\n",
        "from numpy import linalg as LA\n",
        "\n",
        "# W = working, B = broken.\n",
        "\n",
        "T = np.matrix([[0.7,0.5], [0.3,0.5]])\n",
        "print(\"Prob working tomorrow \", np.linalg.matrix_power(T,2)) #tomorrow\n",
        "print(\"prob working next day \", np.linalg.matrix_power(T,3))# Next Day\n",
        "print(\" prob working in one week \", np.linalg.matrix_power(T,7)) # one Week\n",
        "print(\"prob working in one month \" ,np.linalg.matrix_power(T,30)) #one Month\n",
        "\n",
        "\n",
        "print( )\n",
        "print()\n",
        "print(\" 1.d) \")\n",
        "\n",
        "X = np.array([[0.7,0.5], [0.3,0.5]])\n",
        "[e,v]=LA.eig(X)\n",
        "print(X)\n",
        "print(e)\n",
        "print()\n",
        "print(v)\n",
        "v1 = v[:,0]\n",
        "v1 = v1/sum(v1)\n",
        "print(\"Long run distribution: \", v1)\n",
        "\n",
        "\n"
      ],
      "execution_count": 17,
      "outputs": [
        {
          "output_type": "stream",
          "text": [
            "Prob working tomorrow  [[0.64 0.6 ]\n",
            " [0.36 0.4 ]]\n",
            "prob working next day  [[0.628 0.62 ]\n",
            " [0.372 0.38 ]]\n",
            " prob working in one week  [[0.6250048 0.624992 ]\n",
            " [0.3749952 0.375008 ]]\n",
            "prob working in one month  [[0.625 0.625]\n",
            " [0.375 0.375]]\n",
            "\n",
            "\n",
            " 1.d) \n",
            "[[0.7 0.5]\n",
            " [0.3 0.5]]\n",
            "[1.  0.2]\n",
            "\n",
            "[[ 0.85749293 -0.70710678]\n",
            " [ 0.51449576  0.70710678]]\n",
            "Long run distribution:  [0.625 0.375]\n"
          ],
          "name": "stdout"
        }
      ]
    },
    {
      "cell_type": "markdown",
      "metadata": {
        "id": "jrykg92K_qNu"
      },
      "source": [
        "1c) probability of working tomorrow is equal to 64%, probability of working next day is 62.8%, one week is equal to 62.5%, one month is equal to 62.5%. "
      ]
    },
    {
      "cell_type": "markdown",
      "metadata": {
        "id": "CeTNcbpCNsca"
      },
      "source": [
        "1.d) The long run distribution is equal to, W = 62.5% and B = 37.5%. Meaning that the long term probability of the copying machine working at any given day is equal to 62.5%."
      ]
    },
    {
      "cell_type": "code",
      "metadata": {
        "colab": {
          "base_uri": "https://localhost:8080/"
        },
        "id": "yzJ_aylggpPX",
        "outputId": "ad87d9f7-feb6-4c05-9826-cd502b1e56cb"
      },
      "source": [
        "#2c)\n",
        "\n",
        "T = np.matrix([[.699,.498,0], [.30,.50,0], [.001, .002, 1]])\n",
        "B = T[2:3,0:2]\n",
        "A = T[0:2,0:2]\n",
        "I = np.identity(2)\n",
        "\n",
        "ll = np.subtract(I,A)\n",
        "FundaM= np.linalg.inv(ll)\n",
        "print(T)\n",
        "print()\n",
        "print(FundaM)\n",
        "Final = np.dot(B,FundaM)\n",
        "\n",
        "\n",
        "\n"
      ],
      "execution_count": null,
      "outputs": [
        {
          "output_type": "stream",
          "text": [
            "[[0.699 0.498 0.   ]\n",
            " [0.3   0.5   0.   ]\n",
            " [0.001 0.002 1.   ]]\n",
            "\n",
            "[[454.54545455 452.72727273]\n",
            " [272.72727273 273.63636364]]\n",
            "\n"
          ],
          "name": "stdout"
        }
      ]
    },
    {
      "cell_type": "markdown",
      "metadata": {
        "id": "euqxRxFAbrg-"
      },
      "source": [
        "c) The machine will last on average equal to the sum of column 1 for the fundamental matrix which is equal to around 727.2728 days. \n",
        "The amount of that time it will be working is equal to 454.5455 days and the amount of time it will be under repair is equal to 272.7273. This is assuming we are starting in a working computer state. "
      ]
    },
    {
      "cell_type": "code",
      "metadata": {
        "colab": {
          "base_uri": "https://localhost:8080/"
        },
        "id": "68xLCKfpYN2-",
        "outputId": "26238eaf-f7dd-40d6-98f3-9f6da299be23"
      },
      "source": [
        "#3\n",
        "\n",
        "T = np.matrix([[0,.6,0,0,0,0,0,0,0],[.4,0,.6,0,0,0,0,0,0], [0,0.4,0,0.6,0,0,0,0,0], [0,0,.4,0,0.6,0,0,0,0], [0,0,0,0.4,0,0.6,0,0,0], [0,0,0,0,0.4,0,0.6,0,0,]\n",
        "               , [0,0,0,0,0,0.4,0,0,0], [0,0,0,0,0,0,0.4,1,0], [0.6,0,0,0,0,0,0,0,1]])\n",
        "#print(T)\n",
        "print()\n",
        "\n",
        "B = T[7:9,0:7]\n",
        "#print(B)\n",
        "print()\n",
        "A = T[0:7,0:7]\n",
        "#print(A)\n",
        "I = np.identity(7)\n",
        "\n",
        "ll = np.subtract(I,A)\n",
        "FundaM= np.linalg.inv(ll)\n",
        "#print(np.matrix(FundaM))\n",
        "Final = np.dot(B,FundaM)\n",
        "print(Final)\n",
        "\n",
        "#b)\n",
        "X = np.matrix([[0,0,0,0,0,0,0,0,0],[0,0,0,0,0,0,0,0,0], [0,0,0,0,0,0,0,0,0], [0,0,0,0,0,0.6,0,0,0], [0,0,0,0,0,0,0,0,0], [0,0,0.4,0,0,0,0,0,0,]\n",
        "               , [0,0,0,0,0,0,0,0,0], [0,0,0,0.4,0,0.4,0,1,0], [0,0,0.6,0.6,0,0,0,0,1]])\n",
        "#print(X)\n",
        "B = X[7:9,0:7]\n",
        "#print(B)\n",
        "print()\n",
        "A = X[0:7,0:7]\n",
        "#print(A)\n",
        "I = np.identity(7)\n",
        "\n",
        "ll = np.subtract(I,A)\n",
        "FundaM= np.linalg.inv(ll)\n",
        "#print(np.matrix(FundaM))\n",
        "Final = np.dot(B,FundaM)\n",
        "print(Final)\n",
        "\n",
        "#d) Bonus:\n",
        "\n",
        "Z = np.matrix([[0,0,0,0,0,0,0,0,0],[0,0,0.6,0,0,0,0,0,0], [0,0,0,0,0,0,0,0,0], [0,0.4,0.4,0,0,0,0,0,0], [0,0,0,0,0,0,0,0,0], [0,0,0,0,0,0,0,0,0,]\n",
        "               , [0,0,0,0,0,0,0,0,0], [0,0,0,0.4,0,0,0,1,0], [0,0.6,0,0.6,0,0,0,0,1]])\n",
        "print()\n",
        "print(Z)\n",
        "B = Z[7:9,0:7]\n",
        "#print(B)\n",
        "print()\n",
        "A = Z[0:7,0:7]\n",
        "#print(A)\n",
        "I = np.identity(7)\n",
        "ll = np.subtract(I,A)\n",
        "FundaM= np.linalg.inv(ll)\n",
        "#print(np.matrix(FundaM))\n",
        "Final = np.dot(B,FundaM)\n",
        "print(Final)\n",
        "\n",
        "\n",
        "\n",
        "\n",
        "\n"
      ],
      "execution_count": 11,
      "outputs": [
        {
          "output_type": "stream",
          "text": [
            "\n",
            "\n",
            "[[0.02030135 0.05075337 0.0964314  0.16494845 0.26772403 0.42188739\n",
            "  0.65313243]\n",
            " [0.97969865 0.94924663 0.9035686  0.83505155 0.73227597 0.57811261\n",
            "  0.34686757]]\n",
            "\n",
            "[[0.    0.    0.256 0.4   0.    0.64  0.   ]\n",
            " [0.    0.    0.744 0.6   0.    0.36  0.   ]]\n",
            "\n",
            "[[0.  0.  0.  0.  0.  0.  0.  0.  0. ]\n",
            " [0.  0.  0.6 0.  0.  0.  0.  0.  0. ]\n",
            " [0.  0.  0.  0.  0.  0.  0.  0.  0. ]\n",
            " [0.  0.4 0.4 0.  0.  0.  0.  0.  0. ]\n",
            " [0.  0.  0.  0.  0.  0.  0.  0.  0. ]\n",
            " [0.  0.  0.  0.  0.  0.  0.  0.  0. ]\n",
            " [0.  0.  0.  0.  0.  0.  0.  0.  0. ]\n",
            " [0.  0.  0.  0.4 0.  0.  0.  1.  0. ]\n",
            " [0.  0.6 0.  0.6 0.  0.  0.  0.  1. ]]\n",
            "\n",
            "[[0.    0.16  0.256 0.4   0.    0.    0.   ]\n",
            " [0.    0.84  0.744 0.6   0.    0.    0.   ]]\n"
          ],
          "name": "stdout"
        }
      ]
    },
    {
      "cell_type": "markdown",
      "metadata": {
        "id": "mCC35RXrgyVr"
      },
      "source": [
        "3a) The probability he wins 8 dollars is equal to 9.64%. \n",
        "\n",
        "b) The probability of winning is 25.6%.\n",
        "\n",
        "c) Since the probability of success is higher for the bold strategy, Smith's best bet is using the bold strategy.\n",
        "\n",
        "d bonus) There is no strategy that can beat the bold one, they can only tie it. In the strategy I created, it follows a similar bold strategy, except you start off by betting one dollar instead of all $3. But, there can be no strategy that beats the bold one because if the probability of winning is less than 50%, then the best strategy is the one that gets you out of the game the fastest (least amount of betting turns). No strategy can be created that gets you out of the game in less iterations than the bold strategy given the constraints; so it therefore can only be tied at best. "
      ]
    },
    {
      "cell_type": "code",
      "metadata": {
        "colab": {
          "base_uri": "https://localhost:8080/"
        },
        "id": "A_DDzdDAKf22",
        "outputId": "698f1e06-8ccb-4be7-91e4-96cd904c07ed"
      },
      "source": [
        "#4 b)\n",
        "\n",
        "T = np.matrix([[0.2,0,0,0,0,0],[0.7,0.2,0,0,0,0],[0,0.7,0.2,0,0,0],[0,0,0.7,0.2,0,0],[0.1,0.1,0.1,0.1,1,0],[0,0,0,0.7,0,1]])\n",
        "print(T)\n",
        "print()\n",
        "\n",
        "A = T[0:4, 0:4]\n",
        "#print(A)\n",
        "B = T[4:6, 0:4]\n",
        "#print(B)\n",
        "I = np.identity(4)\n",
        "#print(I)\n",
        "\n",
        "ll = np.subtract(I,A)\n",
        "FundaM= np.linalg.inv(ll)\n",
        "print(FundaM)\n",
        "print()\n",
        "Final = np.dot(B,FundaM)\n",
        "print(Final)\n",
        "print()\n",
        "totalTime= sum(FundaM[:,0])\n",
        "print(totalTime) # total time spent in medical school\n",
        "\n",
        "\n"
      ],
      "execution_count": null,
      "outputs": [
        {
          "output_type": "stream",
          "text": [
            "[[0.2 0.  0.  0.  0.  0. ]\n",
            " [0.7 0.2 0.  0.  0.  0. ]\n",
            " [0.  0.7 0.2 0.  0.  0. ]\n",
            " [0.  0.  0.7 0.2 0.  0. ]\n",
            " [0.1 0.1 0.1 0.1 1.  0. ]\n",
            " [0.  0.  0.  0.7 0.  1. ]]\n",
            "\n",
            "[[1.25       0.         0.         0.        ]\n",
            " [1.09375    1.25       0.         0.        ]\n",
            " [0.95703125 1.09375    1.25       0.        ]\n",
            " [0.83740234 0.95703125 1.09375    1.25      ]]\n",
            "\n",
            "[[0.41381836 0.33007812 0.234375   0.125     ]\n",
            " [0.58618164 0.66992188 0.765625   0.875     ]]\n",
            "\n",
            "[[4.13818359]]\n"
          ],
          "name": "stdout"
        }
      ]
    },
    {
      "cell_type": "markdown",
      "metadata": {
        "id": "EWXvTZWfOnaJ"
      },
      "source": [
        "4c) The time expected to be in second year is equal 1.09 years. They are expected to be in medical school for about 4.14 years.\n",
        "\n",
        "4d) The probability of a beginning student flunking out is equal to 0.4138 or around 41%. The probability of graduating is 0.5862 or around 59%."
      ]
    }
  ]
}