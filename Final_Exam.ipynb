{
  "nbformat": 4,
  "nbformat_minor": 0,
  "metadata": {
    "colab": {
      "name": "Final Exam",
      "provenance": [],
      "authorship_tag": "ABX9TyM2oyY7TzNaqs5jHn6fZwxp",
      "include_colab_link": true
    },
    "kernelspec": {
      "name": "python3",
      "display_name": "Python 3"
    },
    "language_info": {
      "name": "python"
    }
  },
  "cells": [
    {
      "cell_type": "markdown",
      "metadata": {
        "id": "view-in-github",
        "colab_type": "text"
      },
      "source": [
        "<a href=\"https://colab.research.google.com/github/Halifaxi/Data-Analysis-Project-1/blob/master/Final_Exam.ipynb\" target=\"_parent\"><img src=\"https://colab.research.google.com/assets/colab-badge.svg\" alt=\"Open In Colab\"/></a>"
      ]
    },
    {
      "cell_type": "code",
      "metadata": {
        "colab": {
          "base_uri": "https://localhost:8080/",
          "height": 333
        },
        "id": "MCJytyth0iup",
        "outputId": "a18c138e-d772-44da-fa78-bed48410097f"
      },
      "source": [
        "import numpy as np\n",
        "import matplotlib.pyplot as plt\n",
        "import math\n",
        "\n",
        "#Q5)\n",
        "lam = 1   # arrival rate\n",
        "dt=0.01;\n",
        "nsteps=10000;\n",
        "Q=0;\n",
        "QQ=[];\n",
        "\n",
        "for step in range(nsteps):\n",
        "  if np.random.rand() < lam*dt:\n",
        "    Q=Q+1;\n",
        "  if np.random.rand() < lam*dt:\n",
        "    Q = Q + 2 \n",
        "  QQ.append(Q)\n",
        "\n",
        "# Estimate Pi(0) Monte Carlo\n",
        "estimatep0 = sum([x == 0 for x in QQ])/len(QQ)\n",
        "print(\"p0: \" , estimatep0)\n",
        "\n",
        "estimatep1 = sum([x == 1 for x in QQ])/len(QQ)\n",
        "print(\"p1: \" ,estimatep1)\n",
        "\n",
        "estimatep2 = sum([x == 2 for x in QQ])/len(QQ)\n",
        "print(\"p2: \" ,estimatep2)\n",
        "\n",
        "p = np.zeros(20)\n",
        "for n in range (0,20):\n",
        "  p[n] = sum ([x == n for x in QQ])/len(QQ)\n",
        "plt.plot(p, 'o-')\n",
        "\n",
        "#c) Estimated amount of people at time M\n",
        "\n",
        "Avg = np.mean(QQ)\n",
        "print(\"average amount of people at the party at time t: \", Avg)\n",
        "\n",
        "#n = np.linspace(0,20,21)\n",
        "\n",
        "\n",
        "\n",
        "\n"
      ],
      "execution_count": 49,
      "outputs": [
        {
          "output_type": "stream",
          "text": [
            "p0:  0.0005\n",
            "p1:  0.0031\n",
            "p2:  0.0043\n",
            "average amount of people at the party at time t:  146.3222\n"
          ],
          "name": "stdout"
        },
        {
          "output_type": "display_data",
          "data": {
            "image/png": "[encoded data removed]",
            "text/plain": [
              "<Figure size 432x288 with 1 Axes>"
            ]
          },
          "metadata": {
            "tags": [],
            "needs_background": "light"
          }
        }
      ]
    },
    {
      "cell_type": "code",
      "metadata": {
        "colab": {
          "base_uri": "https://localhost:8080/"
        },
        "id": "Kr5g-OHND87A",
        "outputId": "45f38938-e770-4d6e-fe30-7165cb9ff461"
      },
      "source": [
        "#Question 3 on Final Exam:\n",
        "\n",
        "\n",
        "T = np.matrix([[0.75,0,0,0], [.15,.80,0,0], [.10, .10, 1,0], [0,.10,0,1]])\n",
        "B = T[2:4,0:2]\n",
        "print(B)\n",
        "A = T[0:2,0:2]\n",
        "print()\n",
        "print(A)\n",
        "print()\n",
        "I = np.identity(2)\n",
        "\n",
        "ll = np.subtract(I,A)\n",
        "FundaM= np.linalg.inv(ll)\n",
        "#print(T)\n",
        "print()\n",
        "print(FundaM)\n",
        "Final = np.dot(B,FundaM)\n",
        "\n",
        "print()\n",
        "print(Final)\n"
      ],
      "execution_count": 76,
      "outputs": [
        {
          "output_type": "stream",
          "text": [
            "[[0.1 0.1]\n",
            " [0.  0.1]]\n",
            "\n",
            "[[0.75 0.  ]\n",
            " [0.15 0.8 ]]\n",
            "\n",
            "\n",
            "[[4. 0.]\n",
            " [3. 5.]]\n",
            "\n",
            "[[0.7 0.5]\n",
            " [0.3 0.5]]\n"
          ],
          "name": "stdout"
        }
      ]
    },
    {
      "cell_type": "code",
      "metadata": {
        "colab": {
          "base_uri": "https://localhost:8080/",
          "height": 282
        },
        "id": "3aOeFP2XF6dH",
        "outputId": "df0dadef-49f5-4918-c28e-ac936d5feb4e"
      },
      "source": [
        "#2b) Coin Flips: and BONUS:\n",
        "\n",
        "heads = 0.5\n",
        "H = 0\n",
        "N = 2       # change this number for the bonus\n",
        "\n",
        "total = []\n",
        "for i in range(1000000):\n",
        "  total.append(flips)\n",
        "  H = 0\n",
        "  flips = 0\n",
        "  while H < N:\n",
        "    if np.random.rand() < heads:\n",
        "      H = H + 1\n",
        "    else: H = 0\n",
        "    flips = flips + 1\n",
        "\n",
        "plt.hist(total)\n",
        "np.mean(total)\n"
      ],
      "execution_count": 43,
      "outputs": [
        {
          "output_type": "execute_result",
          "data": {
            "text/plain": [
              "6.005998"
            ]
          },
          "metadata": {
            "tags": []
          },
          "execution_count": 43
        },
        {
          "output_type": "display_data",
          "data": {
            "image/png": "[encoded data removed]",
            "text/plain": [
              "<Figure size 432x288 with 1 Axes>"
            ]
          },
          "metadata": {
            "tags": [],
            "needs_background": "light"
          }
        }
      ]
    },
    {
      "cell_type": "code",
      "metadata": {
        "colab": {
          "base_uri": "https://localhost:8080/",
          "height": 333
        },
        "id": "MLq1lttFKxix",
        "outputId": "1dd7dc36-8eaa-4aac-a95d-c82484fd014d"
      },
      "source": [
        "#Question 6: \n",
        "\n",
        "lam = 6.  # 6 patients arrive an hour\n",
        "mu = 4    # 4 patients served an hour\n",
        "dt = 0.00001\n",
        "total = []\n",
        "Q = 0\n",
        "\n",
        "\n",
        "for i in range(10000000):\n",
        "  if Q >=2:\n",
        "    mu = 8\n",
        "  else: mu = 4\n",
        "  if np.random.rand() < dt*lam:\n",
        "    Q = Q+1\n",
        "  if np.random.rand() < dt*mu and Q > 0:\n",
        "     Q = Q-1\n",
        "  total.append(Q)\n",
        "\n",
        "Q6 = sum([n*pi[n] for n in range(0,len(pi))])\n",
        "pi0 = sum([x == 0 for x in total])/len(total)\n",
        "pi1 = sum([x == 1 for x in total])/len(total)\n",
        "pi2 = sum([x == 2 for x in total])/len(total)\n",
        "\n",
        "rightaway = (pi0+pi1+pi2)\n",
        "print(\"the estimate of Pi (0) is = : \", pi0)\n",
        "print(\"the probability you can see a doctor right away is: \", rightaway)\n",
        "print(\"the probability there are at least three people in the waiting room is\", 1-rightaway)\n",
        "\n",
        "avgque = sum([x > 2 for x in total])/len(total)\n",
        "\n",
        "print(\"the average waiting time is: \", avgque/lam , \"hours\")\n",
        "\n",
        "# For the long term probability (a):\n",
        "p = np.zeros(20)\n",
        "for n in range(0, 20):\n",
        "  p= sum([x == n for x in total])/len(total)\n",
        "plt.plot(p, 'o')\n",
        "plt.hist(QQ,30, density = True);"
      ],
      "execution_count": 87,
      "outputs": [
        {
          "output_type": "stream",
          "text": [
            "the estimate of Pi (0) is = :  0.1193148\n",
            "the probability you can see a doctor right away is:  0.513025\n",
            "the probability there are at least three people in the waiting room is 0.48697500000000005\n",
            "the average waiting time is:  0.0811625 hours\n"
          ],
          "name": "stdout"
        },
        {
          "output_type": "display_data",
          "data": {
            "image/png": "[encoded data removed]",
            "text/plain": [
              "<Figure size 432x288 with 1 Axes>"
            ]
          },
          "metadata": {
            "tags": [],
            "needs_background": "light"
          }
        }
      ]
    },
    {
      "cell_type": "code",
      "metadata": {
        "colab": {
          "base_uri": "https://localhost:8080/"
        },
        "id": "vQUQAko_Rn0R",
        "outputId": "a4d338a8-0d2f-4fe8-d9fe-d8ebef068971"
      },
      "source": [
        "#6 c) Realistic Scenario:\n",
        "\n",
        "lam = 6.  # 6 patients arrive an hour\n",
        "mu = 4    # 4 patients served an hour\n",
        "dt = 0.0001\n",
        "total = []\n",
        "Q = 0\n",
        "\n",
        "for i in range(10000000):\n",
        "  if Q >=2:\n",
        "   mu = 8\n",
        "  else: mu = 4\n",
        "  if Q >= 5:\n",
        "   lam = 3\n",
        "  else: lam = 6\n",
        "\n",
        "  if np.random.rand() < dt*lam:\n",
        "    Q = Q+1\n",
        "  if np.random.rand() < dt*mu and Q > 0:\n",
        "    Q = Q-1\n",
        "  total.append(Q)\n",
        "\n",
        "\n",
        "pi0 = sum([x == 0 for x in total])/len(total)\n",
        "print(\"the estimate of Pi (0) is = : \", pi0)\n",
        "\n"
      ],
      "execution_count": 77,
      "outputs": [
        {
          "output_type": "stream",
          "text": [
            "the estimate of Pi (0) is = :  0.1700261\n"
          ],
          "name": "stdout"
        }
      ]
    }
  ]
}