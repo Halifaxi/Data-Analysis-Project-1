{
  "nbformat": 4,
  "nbformat_minor": 0,
  "metadata": {
    "colab": {
      "name": "Copy of hw5 death process.ipynb",
      "provenance": [],
      "include_colab_link": true
    },
    "kernelspec": {
      "name": "python3",
      "display_name": "Python 3"
    }
  },
  "cells": [
    {
      "cell_type": "markdown",
      "metadata": {
        "id": "view-in-github",
        "colab_type": "text"
      },
      "source": [
        "<a href=\"https://colab.research.google.com/github/Halifaxi/Data-Analysis-Project-1/blob/master/Copy_of_hw5_death_process.ipynb\" target=\"_parent\"><img src=\"https://colab.research.google.com/assets/colab-badge.svg\" alt=\"Open In Colab\"/></a>"
      ]
    },
    {
      "cell_type": "code",
      "metadata": {
        "colab": {
          "base_uri": "https://localhost:8080/",
          "height": 282
        },
        "id": "4w7FYGiZtwUh",
        "outputId": "192ab287-d368-4c15-8fd5-fdd72caef4b4"
      },
      "source": [
        "import matplotlib.pyplot as plt\r\n",
        "import numpy as np\r\n",
        "\r\n",
        "#5 E) \r\n",
        "\r\n",
        "N = []\r\n",
        "mu=1\r\n",
        "dt=0.01\r\n",
        "\r\n",
        "for i in range (1000):\r\n",
        "  N.append(n0)\r\n",
        "  n0=10\r\n",
        "  t=0\r\n",
        "  while t < 2:\r\n",
        "    t=t+dt\r\n",
        "    if np.random.rand() < dt*mu*n0:\r\n",
        "        n0=n0-1;\r\n",
        "\r\n",
        "plt.hist(N, 5, density = True) \r\n",
        "\r\n",
        "variable = []\r\n",
        "for i in range (0,21):\r\n",
        "  test = sum([n0==i for n0 in N])/1000\r\n",
        "  variable.append(test)\r\n",
        "\r\n",
        "gab = sum([n0==0 for n0 in N])/1000\r\n",
        "print(\" The probability of extinction is : \" , gab)\r\n",
        "\r\n",
        "\r\n",
        "\r\n",
        "\r\n",
        "\r\n",
        "\r\n",
        "      \r\n",
        "\r\n",
        "\r\n",
        "  "
      ],
      "execution_count": 65,
      "outputs": [
        {
          "output_type": "stream",
          "text": [
            " The probability of extinction is :  0.228\n"
          ],
          "name": "stdout"
        },
        {
          "output_type": "display_data",
          "data": {
            "image/png": "[encoded data removed]",
            "text/plain": [
              "<Figure size 432x288 with 1 Axes>"
            ]
          },
          "metadata": {
            "tags": [],
            "needs_background": "light"
          }
        }
      ]
    },
    {
      "cell_type": "markdown",
      "metadata": {
        "id": "SuXwmFbGU9AS"
      },
      "source": [
        "5. e) \n",
        "Yes this agrees with part d mostly. It is slightly off depending on the random variation. However it is close enough to conclude that the random simulation process is accurate. "
      ]
    },
    {
      "cell_type": "code",
      "metadata": {
        "colab": {
          "base_uri": "https://localhost:8080/",
          "height": 265
        },
        "id": "Vx2jlKqG-Ln-",
        "outputId": "8c049076-1ffc-442d-ad0a-43b2a595b1f0"
      },
      "source": [
        "#5. f)\n",
        "\n",
        "import math\n",
        "def choose(n, k):\n",
        "    if 0 <= k <= n:\n",
        "        ntok = 1\n",
        "        ktok = 1\n",
        "        for t in range(1, min(k, n - k) + 1):\n",
        "            ntok *= n\n",
        "            ktok *= t\n",
        "            n -= 1\n",
        "        return ntok // ktok\n",
        "    else:\n",
        "        return 0\n",
        "\n",
        "n0 = 10\n",
        "k = 0\n",
        "t = 2\n",
        "KK = []\n",
        "\n",
        "for i in range (0,21):\n",
        "  P = (choose(n0,k))*(math.exp(-k*t))*((1-math.exp(-t))**(n0-k))\n",
        "  k = k+1\n",
        "  KK.append(P)\n",
        "plt.plot(KK, 'o')\n",
        "plt.plot(variable, '--r')\n",
        "plt.legend(['theory','simulation']);\n"
      ],
      "execution_count": 66,
      "outputs": [
        {
          "output_type": "display_data",
          "data": {
            "image/png": "[encoded data removed]",
            "text/plain": [
              "<Figure size 432x288 with 1 Axes>"
            ]
          },
          "metadata": {
            "tags": [],
            "needs_background": "light"
          }
        }
      ]
    },
    {
      "cell_type": "code",
      "metadata": {
        "id": "WEfeqvFVIUna"
      },
      "source": [
        "5. f)Assuming I created accurate depictions of the probabilities, the theory matches incredibly well to the simulation. There are very slight deviations but these are to be expected with random noise. "
      ],
      "execution_count": null,
      "outputs": []
    }
  ]
}