{
  "nbformat": 4,
  "nbformat_minor": 0,
  "metadata": {
    "colab": {
      "name": "Assignment 6.ipynb",
      "provenance": [],
      "include_colab_link": true
    },
    "kernelspec": {
      "name": "python3",
      "display_name": "Python 3"
    }
  },
  "cells": [
    {
      "cell_type": "markdown",
      "metadata": {
        "id": "view-in-github",
        "colab_type": "text"
      },
      "source": [
        "<a href=\"https://colab.research.google.com/github/Halifaxi/Data-Analysis-Project-1/blob/master/Assignment_6.ipynb\" target=\"_parent\"><img src=\"https://colab.research.google.com/assets/colab-badge.svg\" alt=\"Open In Colab\"/></a>"
      ]
    },
    {
      "cell_type": "code",
      "metadata": {
        "colab": {
          "base_uri": "https://localhost:8080/",
          "height": 265
        },
        "id": "ojZXHPTNFW-9",
        "outputId": "4b69bc93-aa0f-4712-b093-53ea6953e750"
      },
      "source": [
        "import matplotlib.pyplot as plt\n",
        "import numpy as np\n",
        "from numpy import linalg as LA\n",
        "\n",
        "\n",
        "mu = 30; # service rate \n",
        "lam= 45;  # arrival rate per minute\n",
        "\n",
        "#Second server comes online if 3 or more people are waiting.\n",
        "\n",
        "\n",
        "dt=0.01;\n",
        "nsteps=100000;\n",
        "Q=0;\n",
        "QQ=[];\n",
        "\n",
        "for step in range(nsteps):\n",
        "  if Q >= 3: mu = 60; \n",
        "  else: mu = 30;\n",
        "  if np.random.rand() < lam*dt:\n",
        "     Q=Q+1;\n",
        "  if np.random.rand() < mu*dt and Q > 0:\n",
        "     Q=Q-1;\n",
        "  \n",
        "  QQ.append(Q)\n",
        "\n",
        "tt=np.linspace(dt, dt*nsteps, nsteps)\n",
        "plt.plot(tt, QQ, '.');\n",
        " "
      ],
      "execution_count": null,
      "outputs": [
        {
          "output_type": "display_data",
          "data": {
            "image/png": "[encoded data removed]",
            "text/plain": [
              "<Figure size 432x288 with 1 Axes>"
            ]
          },
          "metadata": {
            "tags": [],
            "needs_background": "light"
          }
        }
      ]
    },
    {
      "cell_type": "code",
      "metadata": {
        "colab": {
          "base_uri": "https://localhost:8080/"
        },
        "id": "qopQdpYbGpDW",
        "outputId": "d2908a18-9677-4ec7-d6ac-11900525950b"
      },
      "source": [
        "#1. a)\n",
        "\n",
        "print(\"probability that 0 people are in the que: \", sum([x==0 for x in QQ])/len(QQ))   #probability that 0 people are in the que\n",
        "\n",
        "#c)\n",
        "print(\"Fraction of time that there are 3 or more in Que: \", sum([x>=3 for x in QQ])/len(QQ) )  # Fraction of time that there are 3 or more in Que\n",
        "\n",
        "#d)\n",
        "print(\"average length of the que including those being served\" , np.mean(QQ))    #average length of the que including those being served\n",
        "\n",
        "#e) Take a subset of the list greater than 2 people\n",
        "e = [i for i in QQ if i >= 3]\n",
        "ee = np.mean(e) # this still includes those being served. \n",
        "ee\n",
        "\n",
        "\n",
        "\n"
      ],
      "execution_count": null,
      "outputs": [
        {
          "output_type": "stream",
          "text": [
            "probability that 0 people are in the que:  0.45646\n",
            "Fraction of time that there are 3 or more in Que:  0.16367\n",
            "average length of the que including those being served 1.21705\n"
          ],
          "name": "stdout"
        },
        {
          "output_type": "execute_result",
          "data": {
            "text/plain": [
              "4.304820675749984"
            ]
          },
          "metadata": {
            "tags": []
          },
          "execution_count": 53
        }
      ]
    },
    {
      "cell_type": "code",
      "metadata": {
        "colab": {
          "base_uri": "https://localhost:8080/"
        },
        "id": "7YRA00ZFWXh3",
        "outputId": "7bed9e5b-fc75-4387-a6af-8ae9a93107b7"
      },
      "source": [
        "1-lam/mu"
      ],
      "execution_count": null,
      "outputs": [
        {
          "output_type": "execute_result",
          "data": {
            "text/plain": [
              "0.19999999999999996"
            ]
          },
          "metadata": {
            "tags": []
          },
          "execution_count": 97
        }
      ]
    },
    {
      "cell_type": "code",
      "metadata": {
        "colab": {
          "base_uri": "https://localhost:8080/",
          "height": 350
        },
        "id": "h3MZeu3NH1Fn",
        "outputId": "f6e280cd-da62-489f-9cd6-3a25fd496d17"
      },
      "source": [
        "p=np.zeros(25)\n",
        "for n in range(0, 25):\n",
        "  p[n]=sum([x==n for x in QQ])/len(QQ)\n",
        "plt.plot(p, 'o')\n",
        "print(p)\n",
        "#plt.hist(QQ, range(0,20), color='y', density=True)\n",
        "\n",
        "\n",
        "n=np.linspace(0,25, 21); \n",
        "rho=lam/mu; #intensity of the que.\n",
        "\n",
        "plt.plot(n, rho**n*(1-rho), '--r')  #Analytic solution for q > =3\n",
        "plt.legend(['simulation','theory']);\n",
        "\n"
      ],
      "execution_count": null,
      "outputs": [
        {
          "output_type": "stream",
          "text": [
            "[6.4110e-02 1.3371e-01 2.5641e-01 2.4841e-01 1.3374e-01 7.4140e-02\n",
            " 4.0440e-02 2.1690e-02 1.2190e-02 7.3600e-03 3.9800e-03 1.9300e-03\n",
            " 1.2400e-03 4.1000e-04 1.3000e-04 1.1000e-04 0.0000e+00 0.0000e+00\n",
            " 0.0000e+00 0.0000e+00 0.0000e+00 0.0000e+00 0.0000e+00 0.0000e+00\n",
            " 0.0000e+00]\n"
          ],
          "name": "stdout"
        },
        {
          "output_type": "display_data",
          "data": {
            "image/png": "[encoded data removed]",
            "text/plain": [
              "<Figure size 432x288 with 1 Axes>"
            ]
          },
          "metadata": {
            "tags": [],
            "needs_background": "light"
          }
        }
      ]
    },
    {
      "cell_type": "code",
      "metadata": {
        "id": "Dv2oXCLuIwHw",
        "colab": {
          "base_uri": "https://localhost:8080/",
          "height": 299
        },
        "outputId": "40e8a15b-894a-4a05-b341-73a2359a05b2"
      },
      "source": [
        "# 2. a)\n",
        "\n",
        "mu= 30; # service rate \n",
        "newmu= 1200/30 # service rate with two employees.\n",
        "lam= 24;  # arrival rate per minute\n",
        "\n",
        "\n",
        "dt=0.01; nsteps=100000;line=0\n",
        "TT=[]\n",
        "\n",
        "\n",
        "for step in range(nsteps):\n",
        "  if np.random.rand() < lam*dt:\n",
        "     line=line+1;\n",
        "  if np.random.rand() < mu*dt and line > 0:\n",
        "     line=line-1\n",
        "  \n",
        "  TT.append(line)\n",
        "\n",
        "tt=np.linspace(dt, dt*nsteps, nsteps)\n",
        "plt.plot(tt, TT, '.')\n",
        " \n",
        "N = np.mean(TT)\n",
        "print(N)\n",
        "avgWait = (N/lam)*60\n",
        "print(\"The average wait is\", avgWait, \"minutes\") #One person system\n"
      ],
      "execution_count": null,
      "outputs": [
        {
          "output_type": "stream",
          "text": [
            "2.69058\n",
            "The average wait is 6.726450000000001 minutes\n"
          ],
          "name": "stdout"
        },
        {
          "output_type": "display_data",
          "data": {
            "image/png": "[encoded data removed]",
            "text/plain": [
              "<Figure size 432x288 with 1 Axes>"
            ]
          },
          "metadata": {
            "tags": [],
            "needs_background": "light"
          }
        }
      ]
    },
    {
      "cell_type": "code",
      "metadata": {
        "id": "bouK8BhdXk44",
        "colab": {
          "base_uri": "https://localhost:8080/"
        },
        "outputId": "020e1adc-c2b5-4a9a-c959-b36801f4136f"
      },
      "source": [
        "#2a) scenario with two employees working\n",
        "\n",
        "newmu= 45 # service rate with two employees.\n",
        "lam= 24; \n",
        "BB = []\n",
        "dt=0.01;\n",
        "nsteps=100000;\n",
        "line=0;\n",
        "for step in range(nsteps):\n",
        "  if np.random.rand() < lam*dt:\n",
        "     line=line+1;\n",
        "  if np.random.rand() < newmu*dt and line > 0:\n",
        "     line=line-1;\n",
        "  \n",
        "  BB.append(line)\n",
        "\n",
        "avgline = np.mean(BB)\n",
        "print(\"average sizeof the line two people wokring : \", avgline)\n",
        "avgwait = (avgline/lam)*60\n",
        "print(\"The average wait is\", avgwait, \"minutes\")"
      ],
      "execution_count": null,
      "outputs": [
        {
          "output_type": "stream",
          "text": [
            "average sizeof the line two people wokring :  0.64594\n",
            "The average wait is 1.61485 minutes\n"
          ],
          "name": "stdout"
        }
      ]
    },
    {
      "cell_type": "code",
      "metadata": {
        "colab": {
          "base_uri": "https://localhost:8080/"
        },
        "id": "BL3YcLSI2-TW",
        "outputId": "b7975e9e-adff-41b4-d469-cd31a764ea9c"
      },
      "source": [
        "mu= 30 # service rate with two employees.\n",
        "lam= 24; \n",
        "BB = []\n",
        "dt=0.01;\n",
        "nsteps=100000;\n",
        "line=0;\n",
        "for step in range(nsteps):\n",
        "  if np.random.rand() < lam*dt:\n",
        "     line=line+1;\n",
        "  if np.random.rand() < mu*dt and line > 0:\n",
        "     line=line-1;\n",
        "  \n",
        "  BB.append(line)\n",
        "\n",
        "avgline = np.mean(BB)\n",
        "print(\"average size of line one person working\" ,avgline)\n",
        "avgwait = (avgline/lam)*60\n",
        "print(\"The average wait is\", avgwait, \"minutes\")"
      ],
      "execution_count": null,
      "outputs": [
        {
          "output_type": "stream",
          "text": [
            "average size of line one person working 3.01809\n",
            "The average wait is 7.545225 minutes\n"
          ],
          "name": "stdout"
        }
      ]
    },
    {
      "cell_type": "code",
      "metadata": {
        "colab": {
          "base_uri": "https://localhost:8080/"
        },
        "id": "8i7tQfO6l36T",
        "outputId": "fdc3fb43-884a-4c2e-b704-5e76a43b1193"
      },
      "source": [
        "#2. b) Limit of 6 cars in the lineup, one employee scenario\n",
        "\n",
        "mu= 30; # service rate \n",
        "lam= 24;  # arrival rate per minute\n",
        "\n",
        "dt=0.01;\n",
        "nsteps=100000;\n",
        "line=0;\n",
        "TT=[];\n",
        "gone = 0\n",
        "for step in range(nsteps):\n",
        "  if line == 6: \n",
        "    gone = gone+1\n",
        "  if np.random.rand() < lam*dt:\n",
        "     line=line+1;\n",
        "     if line == 7:\n",
        "      line = line-1\n",
        "      gone = gone+1\n",
        "  if np.random.rand() < mu*dt and line > 0:\n",
        "     line=line-1;\n",
        "  \n",
        "  TT.append(line)\n",
        "\n",
        "tt=np.linspace(dt, dt*nsteps, nsteps)\n",
        "#plt.plot(tt, TT, '.')\n",
        "percent = (gone/len(TT))*100\n",
        "\n",
        "print(\"The amount of people turned away with one person working:\", gone, \".\", \"As a perecent is : \", percent,\"%\")\n",
        "\n"
      ],
      "execution_count": null,
      "outputs": [
        {
          "output_type": "stream",
          "text": [
            "The amount of people turned away with one person working: 4437 . As a perecent is :  4.437 %\n"
          ],
          "name": "stdout"
        }
      ]
    },
    {
      "cell_type": "code",
      "metadata": {
        "colab": {
          "base_uri": "https://localhost:8080/"
        },
        "id": "r5lFx4HhpVtd",
        "outputId": "22c77854-2dec-4fd0-d89b-0f97e30af3d1"
      },
      "source": [
        "#2 b) two employee scenario\n",
        "newmu= 45 # service rate with two employees.\n",
        "lam= 24; \n",
        "BB = []\n",
        "dt=0.01\n",
        "nsteps=100000\n",
        "line=0\n",
        "gone = 0\n",
        "for step in range(nsteps):\n",
        "  if np.random.rand() < lam*dt:\n",
        "     line=line+1;\n",
        "  if line == 7:\n",
        "      line = line-1\n",
        "      gone = gone+1\n",
        "  if np.random.rand() < newmu*dt and line > 0:\n",
        "     line=line-1;\n",
        "  \n",
        "  BB.append(line)\n",
        "percent = (gone/len(TT))*100\n",
        "\n",
        "\n",
        "print(\"The amount of people turned away with two people working:\", gone, \".\", \"As a perecent is : \", percent,\"%\")"
      ],
      "execution_count": null,
      "outputs": [
        {
          "output_type": "stream",
          "text": [
            "The amount of people turned away with two people working: 41 . As a perecent is :  0.041 %\n"
          ],
          "name": "stdout"
        }
      ]
    },
    {
      "cell_type": "code",
      "metadata": {
        "colab": {
          "base_uri": "https://localhost:8080/",
          "height": 282
        },
        "id": "xqn6Krf2pxW2",
        "outputId": "07ed4ecd-6d0c-4d21-a048-ffea3f4d3f32"
      },
      "source": [
        "# 3) Canada Scenario \n",
        "lam = 60 #  arrival rate in seconds\n",
        "mu = 120 # service rate\n",
        "mu2 = 60 # average out the rates?\n",
        "mu3 = 60\n",
        "dt=0.01;\n",
        "nsteps=100000;\n",
        "line=0;\n",
        "Can = []\n",
        "\n",
        "for step in range(nsteps):\n",
        "  if np.random.rand() < lam*dt:\n",
        "     line=line+1;\n",
        "  if line == 2: mu = mu2;\n",
        "  if line >=3: mu = mu3;\n",
        "  if np.random.rand() < mu*dt and line > 0:\n",
        "     line=line-1;\n",
        "\n",
        "  Can.append(line)\n",
        "tt=np.linspace(dt, dt*nsteps, nsteps)\n",
        "plt.plot(tt, Can, '.')"
      ],
      "execution_count": null,
      "outputs": [
        {
          "output_type": "execute_result",
          "data": {
            "text/plain": [
              "[<matplotlib.lines.Line2D at 0x7f6c6e32b290>]"
            ]
          },
          "metadata": {
            "tags": []
          },
          "execution_count": 47
        },
        {
          "output_type": "display_data",
          "data": {
            "image/png": "[encoded data removed]",
            "text/plain": [
              "<Figure size 432x288 with 1 Axes>"
            ]
          },
          "metadata": {
            "tags": [],
            "needs_background": "light"
          }
        }
      ]
    },
    {
      "cell_type": "code",
      "metadata": {
        "colab": {
          "base_uri": "https://localhost:8080/",
          "height": 282
        },
        "id": "sXf1z8JOEbXu",
        "outputId": "50405389-d95e-4b37-9d1a-84d98ffab8e8"
      },
      "source": [
        "#3 China Scenario\n",
        "mu = 1/2 # service rate 2 per minute\n",
        "lam = 1 \n",
        "#  arrival rate 1 per minute\n",
        "mu2 = 3/4 # average out rates?\n",
        "mu3 = 2/3\n",
        "\n",
        "dt=0.01;\n",
        "nsteps=100000;\n",
        "line=0;\n",
        "Can = []\n",
        "\n",
        "for step in range(nsteps):\n",
        "  if np.random.rand() < lam*dt:\n",
        "     line=line+1;\n",
        "  if line == 2: mu = mu2;\n",
        "  if line >=3: mu = mu3;\n",
        "  if np.random.rand() < mu*dt and line > 0:\n",
        "     line=line-1;\n",
        "\n",
        "  Can.append(line)\n",
        "tt=np.linspace(dt, dt*nsteps, nsteps)\n",
        "plt.plot(tt, Can, '.')"
      ],
      "execution_count": null,
      "outputs": [
        {
          "output_type": "execute_result",
          "data": {
            "text/plain": [
              "[<matplotlib.lines.Line2D at 0x7f6c6e575650>]"
            ]
          },
          "metadata": {
            "tags": []
          },
          "execution_count": 46
        },
        {
          "output_type": "display_data",
          "data": {
            "image/png": "[encoded data removed]",
            "text/plain": [
              "<Figure size 432x288 with 1 Axes>"
            ]
          },
          "metadata": {
            "tags": [],
            "needs_background": "light"
          }
        }
      ]
    }
  ]
}